{
 "cells": [
  {
   "cell_type": "markdown",
   "metadata": {
    "collapsed": true,
    "deletable": true,
    "editable": true
   },
   "source": [
    "# Image Classification\n",
    "In this project, you'll classify images from the [CIFAR-10 dataset](https://www.cs.toronto.edu/~kriz/cifar.html).  The dataset consists of airplanes, dogs, cats, and other objects. You'll preprocess the images, then train a convolutional neural network on all the samples. The images need to be normalized and the labels need to be one-hot encoded.  You'll get to apply what you learned and build a convolutional, max pooling, dropout, and fully connected layers.  At the end, you'll get to see your neural network's predictions on the sample images.\n",
    "## Get the Data\n",
    "Run the following cell to download the [CIFAR-10 dataset for python](https://www.cs.toronto.edu/~kriz/cifar-10-python.tar.gz)."
   ]
  },
  {
   "cell_type": "code",
   "execution_count": 2,
   "metadata": {
    "collapsed": false,
    "deletable": true,
    "editable": true
   },
   "outputs": [
    {
     "name": "stdout",
     "output_type": "stream",
     "text": [
      "All files found!\n"
     ]
    }
   ],
   "source": [
    "\"\"\"\n",
    "DON'T MODIFY ANYTHING IN THIS CELL THAT IS BELOW THIS LINE\n",
    "\"\"\"\n",
    "from urllib.request import urlretrieve\n",
    "from os.path import isfile, isdir\n",
    "from tqdm import tqdm\n",
    "import problem_unittests as tests\n",
    "import tarfile\n",
    "\n",
    "cifar10_dataset_folder_path = 'cifar-10-batches-py'\n",
    "\n",
    "# Use Floyd's cifar-10 dataset if present\n",
    "floyd_cifar10_location = '/input/cifar-10/python.tar.gz'\n",
    "if isfile(floyd_cifar10_location):\n",
    "    tar_gz_path = floyd_cifar10_location\n",
    "else:\n",
    "    tar_gz_path = 'cifar-10-python.tar.gz'\n",
    "\n",
    "class DLProgress(tqdm):\n",
    "    last_block = 0\n",
    "\n",
    "    def hook(self, block_num=1, block_size=1, total_size=None):\n",
    "        self.total = total_size\n",
    "        self.update((block_num - self.last_block) * block_size)\n",
    "        self.last_block = block_num\n",
    "\n",
    "if not isfile(tar_gz_path):\n",
    "    with DLProgress(unit='B', unit_scale=True, miniters=1, desc='CIFAR-10 Dataset') as pbar:\n",
    "        urlretrieve(\n",
    "            'https://www.cs.toronto.edu/~kriz/cifar-10-python.tar.gz',\n",
    "            tar_gz_path,\n",
    "            pbar.hook)\n",
    "\n",
    "if not isdir(cifar10_dataset_folder_path):\n",
    "    with tarfile.open(tar_gz_path) as tar:\n",
    "        tar.extractall()\n",
    "        tar.close()\n",
    "\n",
    "\n",
    "tests.test_folder_path(cifar10_dataset_folder_path)"
   ]
  },
  {
   "cell_type": "markdown",
   "metadata": {
    "deletable": true,
    "editable": true
   },
   "source": [
    "## Explore the Data\n",
    "The dataset is broken into batches to prevent your machine from running out of memory.  The CIFAR-10 dataset consists of 5 batches, named `data_batch_1`, `data_batch_2`, etc.. Each batch contains the labels and images that are one of the following:\n",
    "* airplane\n",
    "* automobile\n",
    "* bird\n",
    "* cat\n",
    "* deer\n",
    "* dog\n",
    "* frog\n",
    "* horse\n",
    "* ship\n",
    "* truck\n",
    "\n",
    "Understanding a dataset is part of making predictions on the data.  Play around with the code cell below by changing the `batch_id` and `sample_id`. The `batch_id` is the id for a batch (1-5). The `sample_id` is the id for a image and label pair in the batch.\n",
    "\n",
    "Ask yourself \"What are all possible labels?\", \"What is the range of values for the image data?\", \"Are the labels in order or random?\".  Answers to questions like these will help you preprocess the data and end up with better predictions."
   ]
  },
  {
   "cell_type": "code",
   "execution_count": 3,
   "metadata": {
    "collapsed": false,
    "deletable": true,
    "editable": true
   },
   "outputs": [
    {
     "name": "stdout",
     "output_type": "stream",
     "text": [
      "\n",
      "Stats of batch 2:\n",
      "Samples: 10000\n",
      "Label Counts: {0: 984, 1: 1007, 2: 1010, 3: 995, 4: 1010, 5: 988, 6: 1008, 7: 1026, 8: 987, 9: 985}\n",
      "First 20 Labels: [1, 6, 6, 8, 8, 3, 4, 6, 0, 6, 0, 3, 6, 6, 5, 4, 8, 3, 2, 6]\n",
      "\n",
      "Example of Image 5:\n",
      "Image - Min Value: 3 Max Value: 219\n",
      "Image - Shape: (32, 32, 3)\n",
      "Label - Label Id: 3 Name: cat\n"
     ]
    },
    {
     "data": {
      "image/png": "[encoded data removed]",
      "text/plain": [
       "<matplotlib.figure.Figure at 0x7ffaf3d19668>"
      ]
     },
     "metadata": {
      "image/png": {
       "height": 250,
       "width": 253
      }
     },
     "output_type": "display_data"
    }
   ],
   "source": [
    "%matplotlib inline\n",
    "%config InlineBackend.figure_format = 'retina'\n",
    "\n",
    "import helper\n",
    "import numpy as np\n",
    "\n",
    "# Explore the dataset\n",
    "batch_id = 2\n",
    "sample_id = 5\n",
    "helper.display_stats(cifar10_dataset_folder_path, batch_id, sample_id)"
   ]
  },
  {
   "cell_type": "markdown",
   "metadata": {
    "deletable": true,
    "editable": true
   },
   "source": [
    "## Implement Preprocess Functions\n",
    "### Normalize\n",
    "In the cell below, implement the `normalize` function to take in image data, `x`, and return it as a normalized Numpy array. The values should be in the range of 0 to 1, inclusive.  The return object should be the same shape as `x`."
   ]
  },
  {
   "cell_type": "code",
   "execution_count": 4,
   "metadata": {
    "collapsed": false,
    "deletable": true,
    "editable": true
   },
   "outputs": [
    {
     "name": "stdout",
     "output_type": "stream",
     "text": [
      "Tests Passed\n"
     ]
    }
   ],
   "source": [
    "def normalize(x):\n",
    "    \"\"\"\n",
    "    Normalize a list of sample image data in the range of 0 to 1\n",
    "    : x: List of image data.  The image shape is (32, 32, 3)\n",
    "    : return: Numpy array of normalize data\n",
    "    \"\"\"\n",
    "    # TODO: Implement Function\n",
    "    return np.array(x / np.max(x))\n",
    "\n",
    "\n",
    "\"\"\"\n",
    "DON'T MODIFY ANYTHING IN THIS CELL THAT IS BELOW THIS LINE\n",
    "\"\"\"\n",
    "tests.test_normalize(normalize)"
   ]
  },
  {
   "cell_type": "markdown",
   "metadata": {
    "deletable": true,
    "editable": true
   },
   "source": [
    "### One-hot encode\n",
    "Just like the previous code cell, you'll be implementing a function for preprocessing.  This time, you'll implement the `one_hot_encode` function. The input, `x`, are a list of labels.  Implement the function to return the list of labels as One-Hot encoded Numpy array.  The possible values for labels are 0 to 9. The one-hot encoding function should return the same encoding for each value between each call to `one_hot_encode`.  Make sure to save the map of encodings outside the function.\n",
    "\n",
    "Hint: Don't reinvent the wheel."
   ]
  },
  {
   "cell_type": "code",
   "execution_count": 5,
   "metadata": {
    "collapsed": false,
    "deletable": true,
    "editable": true
   },
   "outputs": [
    {
     "name": "stdout",
     "output_type": "stream",
     "text": [
      "Tests Passed\n"
     ]
    }
   ],
   "source": [
    "def one_hot_encode(x):\n",
    "    \"\"\"\n",
    "    One hot encode a list of sample labels. Return a one-hot encoded vector for each label.\n",
    "    : x: List of sample Labels\n",
    "    : return: Numpy array of one-hot encoded labels\n",
    "    \"\"\"\n",
    "    # TODO: Implement Function\n",
    "\n",
    "    return np.eye(10)[x]\n",
    "\n",
    "\n",
    "\"\"\"\n",
    "DON'T MODIFY ANYTHING IN THIS CELL THAT IS BELOW THIS LINE\n",
    "\"\"\"\n",
    "tests.test_one_hot_encode(one_hot_encode)"
   ]
  },
  {
   "cell_type": "markdown",
   "metadata": {
    "deletable": true,
    "editable": true
   },
   "source": [
    "### Randomize Data\n",
    "As you saw from exploring the data above, the order of the samples are randomized.  It doesn't hurt to randomize it again, but you don't need to for this dataset."
   ]
  },
  {
   "cell_type": "markdown",
   "metadata": {
    "deletable": true,
    "editable": true
   },
   "source": [
    "## Preprocess all the data and save it\n",
    "Running the code cell below will preprocess all the CIFAR-10 data and save it to file. The code below also uses 10% of the training data for validation."
   ]
  },
  {
   "cell_type": "code",
   "execution_count": 6,
   "metadata": {
    "collapsed": false,
    "deletable": true,
    "editable": true
   },
   "outputs": [],
   "source": [
    "\"\"\"\n",
    "DON'T MODIFY ANYTHING IN THIS CELL\n",
    "\"\"\"\n",
    "# Preprocess Training, Validation, and Testing Data\n",
    "helper.preprocess_and_save_data(cifar10_dataset_folder_path, normalize, one_hot_encode)"
   ]
  },
  {
   "cell_type": "markdown",
   "metadata": {
    "deletable": true,
    "editable": true
   },
   "source": [
    "# Check Point\n",
    "This is your first checkpoint.  If you ever decide to come back to this notebook or have to restart the notebook, you can start from here.  The preprocessed data has been saved to disk."
   ]
  },
  {
   "cell_type": "code",
   "execution_count": 7,
   "metadata": {
    "collapsed": false,
    "deletable": true,
    "editable": true
   },
   "outputs": [],
   "source": [
    "\"\"\"\n",
    "DON'T MODIFY ANYTHING IN THIS CELL\n",
    "\"\"\"\n",
    "import pickle\n",
    "import problem_unittests as tests\n",
    "import helper\n",
    "\n",
    "# Load the Preprocessed Validation data\n",
    "valid_features, valid_labels = pickle.load(open('preprocess_validation.p', mode='rb'))"
   ]
  },
  {
   "cell_type": "markdown",
   "metadata": {
    "deletable": true,
    "editable": true
   },
   "source": [
    "## Build the network\n",
    "For the neural network, you'll build each layer into a function.  Most of the code you've seen has been outside of functions. To test your code more thoroughly, we require that you put each layer in a function.  This allows us to give you better feedback and test for simple mistakes using our unittests before you submit your project.\n",
    "\n",
    ">**Note:** If you're finding it hard to dedicate enough time for this course each week, we've provided a small shortcut to this part of the project. In the next couple of problems, you'll have the option to use classes from the [TensorFlow Layers](https://www.tensorflow.org/api_docs/python/tf/layers) or [TensorFlow Layers (contrib)](https://www.tensorflow.org/api_guides/python/contrib.layers) packages to build each layer, except the layers you build in the \"Convolutional and Max Pooling Layer\" section.  TF Layers is similar to Keras's and TFLearn's abstraction to layers, so it's easy to pickup.\n",
    "\n",
    ">However, if you would like to get the most out of this course, try to solve all the problems _without_ using anything from the TF Layers packages. You **can** still use classes from other packages that happen to have the same name as ones you find in TF Layers! For example, instead of using the TF Layers version of the `conv2d` class, [tf.layers.conv2d](https://www.tensorflow.org/api_docs/python/tf/layers/conv2d), you would want to use the TF Neural Network version of `conv2d`, [tf.nn.conv2d](https://www.tensorflow.org/api_docs/python/tf/nn/conv2d). \n",
    "\n",
    "Let's begin!\n",
    "\n",
    "### Input\n",
    "The neural network needs to read the image data, one-hot encoded labels, and dropout keep probability. Implement the following functions\n",
    "* Implement `neural_net_image_input`\n",
    " * Return a [TF Placeholder](https://www.tensorflow.org/api_docs/python/tf/placeholder)\n",
    " * Set the shape using `image_shape` with batch size set to `None`.\n",
    " * Name the TensorFlow placeholder \"x\" using the TensorFlow `name` parameter in the [TF Placeholder](https://www.tensorflow.org/api_docs/python/tf/placeholder).\n",
    "* Implement `neural_net_label_input`\n",
    " * Return a [TF Placeholder](https://www.tensorflow.org/api_docs/python/tf/placeholder)\n",
    " * Set the shape using `n_classes` with batch size set to `None`.\n",
    " * Name the TensorFlow placeholder \"y\" using the TensorFlow `name` parameter in the [TF Placeholder](https://www.tensorflow.org/api_docs/python/tf/placeholder).\n",
    "* Implement `neural_net_keep_prob_input`\n",
    " * Return a [TF Placeholder](https://www.tensorflow.org/api_docs/python/tf/placeholder) for dropout keep probability.\n",
    " * Name the TensorFlow placeholder \"keep_prob\" using the TensorFlow `name` parameter in the [TF Placeholder](https://www.tensorflow.org/api_docs/python/tf/placeholder).\n",
    "\n",
    "These names will be used at the end of the project to load your saved model.\n",
    "\n",
    "Note: `None` for shapes in TensorFlow allow for a dynamic size."
   ]
  },
  {
   "cell_type": "code",
   "execution_count": 8,
   "metadata": {
    "collapsed": false,
    "deletable": true,
    "editable": true
   },
   "outputs": [
    {
     "name": "stdout",
     "output_type": "stream",
     "text": [
      "Image Input Tests Passed.\n",
      "Label Input Tests Passed.\n",
      "Keep Prob Tests Passed.\n"
     ]
    }
   ],
   "source": [
    "import tensorflow as tf\n",
    "\n",
    "def neural_net_image_input(image_shape):\n",
    "    \"\"\"\n",
    "    Return a Tensor for a batch of image input\n",
    "    : image_shape: Shape of the images\n",
    "    : return: Tensor for image input.\n",
    "    \"\"\"\n",
    "    # TODO: Implement Function\n",
    "    image = tf.placeholder(tf.float32,(None, image_shape[0], image_shape[1], image_shape[2]), name = 'x')\n",
    "    return image \n",
    "\n",
    "\n",
    "def neural_net_label_input(n_classes):\n",
    "    \"\"\"\n",
    "    Return a Tensor for a batch of label input\n",
    "    : n_classes: Number of classes\n",
    "    : return: Tensor for label input.\n",
    "    \"\"\"\n",
    "    # TODO: Implement Function\n",
    "    label = tf.placeholder(tf.float32, (None, n_classes), name = 'y')\n",
    "    return label\n",
    "\n",
    "\n",
    "def neural_net_keep_prob_input():\n",
    "    \"\"\"\n",
    "    Return a Tensor for keep probability\n",
    "    : return: Tensor for keep probability.\n",
    "    \"\"\"\n",
    "    # TODO: Implement Function\n",
    "    keep_prob = tf.placeholder(tf.float32, name = \"keep_prob\" )\n",
    "    return keep_prob\n",
    "\n",
    "\n",
    "\"\"\"\n",
    "DON'T MODIFY ANYTHING IN THIS CELL THAT IS BELOW THIS LINE\n",
    "\"\"\"\n",
    "tf.reset_default_graph()\n",
    "tests.test_nn_image_inputs(neural_net_image_input)\n",
    "tests.test_nn_label_inputs(neural_net_label_input)\n",
    "tests.test_nn_keep_prob_inputs(neural_net_keep_prob_input)"
   ]
  },
  {
   "cell_type": "markdown",
   "metadata": {
    "deletable": true,
    "editable": true
   },
   "source": [
    "### Convolution and Max Pooling Layer\n",
    "Convolution layers have a lot of success with images. For this code cell, you should implement the function `conv2d_maxpool` to apply convolution then max pooling:\n",
    "* Create the weight and bias using `conv_ksize`, `conv_num_outputs` and the shape of `x_tensor`.\n",
    "* Apply a convolution to `x_tensor` using weight and `conv_strides`.\n",
    " * We recommend you use same padding, but you're welcome to use any padding.\n",
    "* Add bias\n",
    "* Add a nonlinear activation to the convolution.\n",
    "* Apply Max Pooling using `pool_ksize` and `pool_strides`.\n",
    " * We recommend you use same padding, but you're welcome to use any padding.\n",
    "\n",
    "**Note:** You **can't** use [TensorFlow Layers](https://www.tensorflow.org/api_docs/python/tf/layers) or [TensorFlow Layers (contrib)](https://www.tensorflow.org/api_guides/python/contrib.layers) for **this** layer, but you can still use TensorFlow's [Neural Network](https://www.tensorflow.org/api_docs/python/tf/nn) package. You may still use the shortcut option for all the **other** layers."
   ]
  },
  {
   "cell_type": "code",
   "execution_count": 9,
   "metadata": {
    "collapsed": false,
    "deletable": true,
    "editable": true
   },
   "outputs": [
    {
     "name": "stdout",
     "output_type": "stream",
     "text": [
      "Tests Passed\n"
     ]
    }
   ],
   "source": [
    "def conv2d_maxpool(x_tensor, conv_num_outputs, conv_ksize, conv_strides, pool_ksize, pool_strides):\n",
    "    \"\"\"\n",
    "    Apply convolution then max pooling to x_tensor\n",
    "    :param x_tensor: TensorFlow Tensor\n",
    "    :param conv_num_outputs: Number of outputs for the convolutional layer\n",
    "    :param conv_ksize: kernal size 2-D Tuple for the convolutional layer\n",
    "    :param conv_strides: Stride 2-D Tuple for convolution\n",
    "    :param pool_ksize: kernal size 2-D Tuple for pool\n",
    "    :param pool_strides: Stride 2-D Tuple for pool\n",
    "    : return: A tensor that represents convolution and max pooling of x_tensor\n",
    "    \"\"\"\n",
    "    # TODO: Implement Function\n",
    "    weights = tf.Variable(tf.truncated_normal([conv_ksize[0], conv_ksize[1],x_tensor.get_shape().as_list()[3], conv_num_outputs],\n",
    "                                             stddev=0.05))\n",
    "    bias = tf.Variable(tf.zeros(conv_num_outputs))\n",
    "    conv_layer = tf.nn.conv2d(x_tensor, weights, strides= [1,conv_strides[0],conv_strides[1],1], padding= \"SAME\")\n",
    "    conv_layer = tf.nn.bias_add(conv_layer, bias)\n",
    "    conv_layer = tf.nn.relu(conv_layer)\n",
    "    conv_layer = tf.nn.max_pool(conv_layer, ksize=[1,pool_ksize[0],pool_ksize[1],1], \n",
    "                                strides=[1,pool_strides[0],pool_strides[1],1], padding=\"SAME\") \n",
    "    return conv_layer \n",
    "\n",
    "\n",
    "\"\"\"\n",
    "DON'T MODIFY ANYTHING IN THIS CELL THAT IS BELOW THIS LINE\n",
    "\"\"\"\n",
    "tests.test_con_pool(conv2d_maxpool)"
   ]
  },
  {
   "cell_type": "markdown",
   "metadata": {
    "deletable": true,
    "editable": true
   },
   "source": [
    "### Flatten Layer\n",
    "Implement the `flatten` function to change the dimension of `x_tensor` from a 4-D tensor to a 2-D tensor.  The output should be the shape (*Batch Size*, *Flattened Image Size*). Shortcut option: you can use classes from the [TensorFlow Layers](https://www.tensorflow.org/api_docs/python/tf/layers) or [TensorFlow Layers (contrib)](https://www.tensorflow.org/api_guides/python/contrib.layers) packages for this layer. For more of a challenge, only use other TensorFlow packages."
   ]
  },
  {
   "cell_type": "code",
   "execution_count": 10,
   "metadata": {
    "collapsed": false,
    "deletable": true,
    "editable": true
   },
   "outputs": [
    {
     "name": "stdout",
     "output_type": "stream",
     "text": [
      "Tests Passed\n"
     ]
    }
   ],
   "source": [
    "def flatten(x_tensor):\n",
    "    \"\"\"\n",
    "    Flatten x_tensor to (Batch Size, Flattened Image Size)\n",
    "    : x_tensor: A tensor of size (Batch Size, ...), where ... are the image dimensions.\n",
    "    : return: A tensor of size (Batch Size, Flattened Image Size).\n",
    "    \"\"\"\n",
    "    # TODO: Implement Function\n",
    "    return tf.contrib.layers.flatten(x_tensor)\n",
    "\n",
    "\n",
    "\"\"\"\n",
    "DON'T MODIFY ANYTHING IN THIS CELL THAT IS BELOW THIS LINE\n",
    "\"\"\"\n",
    "tests.test_flatten(flatten)"
   ]
  },
  {
   "cell_type": "markdown",
   "metadata": {
    "deletable": true,
    "editable": true
   },
   "source": [
    "### Fully-Connected Layer\n",
    "Implement the `fully_conn` function to apply a fully connected layer to `x_tensor` with the shape (*Batch Size*, *num_outputs*). Shortcut option: you can use classes from the [TensorFlow Layers](https://www.tensorflow.org/api_docs/python/tf/layers) or [TensorFlow Layers (contrib)](https://www.tensorflow.org/api_guides/python/contrib.layers) packages for this layer. For more of a challenge, only use other TensorFlow packages."
   ]
  },
  {
   "cell_type": "code",
   "execution_count": 11,
   "metadata": {
    "collapsed": false,
    "deletable": true,
    "editable": true
   },
   "outputs": [
    {
     "name": "stdout",
     "output_type": "stream",
     "text": [
      "Tensor(\"fully_connected/Relu:0\", shape=(?, 40), dtype=float32)\n",
      "Tests Passed\n"
     ]
    }
   ],
   "source": [
    "def fully_conn(x_tensor, num_outputs):\n",
    "    \"\"\"\n",
    "    Apply a fully connected layer to x_tensor using weight and bias\n",
    "    : x_tensor: A 2-D tensor where the first dimension is batch size.\n",
    "    : num_outputs: The number of output that the new tensor should be.\n",
    "    : return: A 2-D tensor where the second dimension is num_outputs.\n",
    "    \"\"\"\n",
    "    # TODO: Implement Function\n",
    "    print(tf.contrib.layers.fully_connected(x_tensor, num_outputs=num_outputs))\n",
    "    return tf.contrib.layers.fully_connected(x_tensor, num_outputs=num_outputs, activation_fn = tf.nn.relu)\n",
    "\n",
    "\n",
    "\"\"\"\n",
    "DON'T MODIFY ANYTHING IN THIS CELL THAT IS BELOW THIS LINE\n",
    "\"\"\"\n",
    "tests.test_fully_conn(fully_conn)"
   ]
  },
  {
   "cell_type": "markdown",
   "metadata": {
    "deletable": true,
    "editable": true
   },
   "source": [
    "### Output Layer\n",
    "Implement the `output` function to apply a fully connected layer to `x_tensor` with the shape (*Batch Size*, *num_outputs*). Shortcut option: you can use classes from the [TensorFlow Layers](https://www.tensorflow.org/api_docs/python/tf/layers) or [TensorFlow Layers (contrib)](https://www.tensorflow.org/api_guides/python/contrib.layers) packages for this layer. For more of a challenge, only use other TensorFlow packages.\n",
    "\n",
    "**Note:** Activation, softmax, or cross entropy should **not** be applied to this."
   ]
  },
  {
   "cell_type": "code",
   "execution_count": 12,
   "metadata": {
    "collapsed": false,
    "deletable": true,
    "editable": true
   },
   "outputs": [
    {
     "name": "stdout",
     "output_type": "stream",
     "text": [
      "Tests Passed\n"
     ]
    }
   ],
   "source": [
    "def output(x_tensor, num_outputs):\n",
    "    \"\"\"\n",
    "    Apply a output layer to x_tensor using weight and bias\n",
    "    : x_tensor: A 2-D tensor where the first dimension is batch size.\n",
    "    : num_outputs: The number of output that the new tensor should be.\n",
    "    : return: A 2-D tensor where the second dimension is num_outputs.\n",
    "    \"\"\"\n",
    "    # TODO: Implement Function\n",
    "    return tf.contrib.layers.fully_connected(x_tensor, num_outputs=num_outputs, activation_fn = None)\n",
    "\n",
    "\n",
    "\"\"\"\n",
    "DON'T MODIFY ANYTHING IN THIS CELL THAT IS BELOW THIS LINE\n",
    "\"\"\"\n",
    "tests.test_output(output)"
   ]
  },
  {
   "cell_type": "markdown",
   "metadata": {
    "deletable": true,
    "editable": true
   },
   "source": [
    "### Create Convolutional Model\n",
    "Implement the function `conv_net` to create a convolutional neural network model. The function takes in a batch of images, `x`, and outputs logits.  Use the layers you created above to create this model:\n",
    "\n",
    "* Apply 1, 2, or 3 Convolution and Max Pool layers\n",
    "* Apply a Flatten Layer\n",
    "* Apply 1, 2, or 3 Fully Connected Layers\n",
    "* Apply an Output Layer\n",
    "* Return the output\n",
    "* Apply [TensorFlow's Dropout](https://www.tensorflow.org/api_docs/python/tf/nn/dropout) to one or more layers in the model using `keep_prob`. "
   ]
  },
  {
   "cell_type": "code",
   "execution_count": 13,
   "metadata": {
    "collapsed": false,
    "deletable": true,
    "editable": true
   },
   "outputs": [
    {
     "name": "stdout",
     "output_type": "stream",
     "text": [
      "Tensor(\"fully_connected/Relu:0\", shape=(?, 300), dtype=float32)\n",
      "Tensor(\"fully_connected_3/Relu:0\", shape=(?, 300), dtype=float32)\n",
      "Neural Network Built!\n"
     ]
    }
   ],
   "source": [
    "def conv_net(x, keep_prob):\n",
    "    \"\"\"\n",
    "    Create a convolutional neural network model\n",
    "    : x: Placeholder tensor that holds image data.\n",
    "    : keep_prob: Placeholder tensor that hold dropout keep probability.\n",
    "    : return: Tensor that represents logits\n",
    "    \"\"\"\n",
    "    # TODO: Apply 1, 2, or 3 Convolution and Max Pool layers\n",
    "    #    Play around with different number of outputs, kernel size and stride\n",
    "    # Function Definition from Above:\n",
    "    #    conv2d_maxpool(x_tensor, conv_num_outputs, conv_ksize, conv_strides, pool_ksize, pool_strides)\n",
    "    conv_ksize = (10,10)\n",
    "    conv_strides = (2,2)\n",
    "    pool_ksize = (2,2)\n",
    "    pool_strides = (2,2)\n",
    "    \n",
    "    conv_1 = conv2d_maxpool(x,  32, conv_ksize, conv_strides, pool_ksize, pool_strides)\n",
    "    conv_2 = conv2d_maxpool(conv_1,  128, conv_ksize, conv_strides, pool_ksize, pool_strides)\n",
    "\n",
    "\n",
    "    # TODO: Apply a Flatten Layer\n",
    "    # Function Definition from Above:\n",
    "    #   flatten(x_tensor)\n",
    "    fc = flatten(conv_2)\n",
    "\n",
    "    # TODO: Apply 1, 2, or 3 Fully Connected Layers\n",
    "    #    Play around with different number of outputs\n",
    "    # Function Definition from Above:\n",
    "    #   fully_conn(x_tensor, num_outputs)\n",
    "    fc1 = fully_conn(fc, 300)\n",
    "    fc1 = tf.nn.dropout(fc1, tf.to_float(keep_prob))\n",
    "    # TODO: Apply an Output Layer\n",
    "    #    Set this to the number of classes\n",
    "    # Function Definition from Above:\n",
    "    #   output(x_tensor, num_outputs)\n",
    "    \n",
    "    out = output(fc1, 10)\n",
    "    \n",
    "    # TODO: return output\n",
    "    return out\n",
    "\n",
    "\n",
    "\"\"\"\n",
    "DON'T MODIFY ANYTHING IN THIS CELL THAT IS BELOW THIS LINE\n",
    "\"\"\"\n",
    "\n",
    "##############################\n",
    "## Build the Neural Network ##\n",
    "##############################\n",
    "\n",
    "# Remove previous weights, bias, inputs, etc..\n",
    "tf.reset_default_graph()\n",
    "\n",
    "# Inputs\n",
    "x = neural_net_image_input((32, 32, 3))\n",
    "y = neural_net_label_input(10)\n",
    "keep_prob = neural_net_keep_prob_input()\n",
    "\n",
    "# Model\n",
    "logits = conv_net(x, keep_prob)\n",
    "\n",
    "# Name logits Tensor, so that is can be loaded from disk after training\n",
    "logits = tf.identity(logits, name='logits')\n",
    "\n",
    "# Loss and Optimizer\n",
    "cost = tf.reduce_mean(tf.nn.softmax_cross_entropy_with_logits(logits=logits, labels=y))\n",
    "optimizer = tf.train.AdamOptimizer().minimize(cost)\n",
    "\n",
    "# Accuracy\n",
    "correct_pred = tf.equal(tf.argmax(logits, 1), tf.argmax(y, 1))\n",
    "accuracy = tf.reduce_mean(tf.cast(correct_pred, tf.float32), name='accuracy')\n",
    "\n",
    "tests.test_conv_net(conv_net)"
   ]
  },
  {
   "cell_type": "markdown",
   "metadata": {
    "deletable": true,
    "editable": true
   },
   "source": [
    "## Train the Neural Network\n",
    "### Single Optimization\n",
    "Implement the function `train_neural_network` to do a single optimization.  The optimization should use `optimizer` to optimize in `session` with a `feed_dict` of the following:\n",
    "* `x` for image input\n",
    "* `y` for labels\n",
    "* `keep_prob` for keep probability for dropout\n",
    "\n",
    "This function will be called for each batch, so `tf.global_variables_initializer()` has already been called.\n",
    "\n",
    "Note: Nothing needs to be returned. This function is only optimizing the neural network."
   ]
  },
  {
   "cell_type": "code",
   "execution_count": 14,
   "metadata": {
    "collapsed": false,
    "deletable": true,
    "editable": true
   },
   "outputs": [
    {
     "name": "stdout",
     "output_type": "stream",
     "text": [
      "Tests Passed\n"
     ]
    }
   ],
   "source": [
    "def train_neural_network(session, optimizer, keep_probability, feature_batch, label_batch):\n",
    "    \"\"\"\n",
    "    Optimize the session on a batch of images and labels\n",
    "    : session: Current TensorFlow session\n",
    "    : optimizer: TensorFlow optimizer function\n",
    "    : keep_probability: keep probability\n",
    "    : feature_batch: Batch of Numpy image data\n",
    "    : label_batch: Batch of Numpy label data\n",
    "    \"\"\"\n",
    "    # TODO: Implement Function\n",
    "    session.run(optimizer, feed_dict={\n",
    "    x: feature_batch,\n",
    "    y: label_batch,\n",
    "    keep_prob: keep_probability})\n",
    "\n",
    "\n",
    "\n",
    "\"\"\"\n",
    "DON'T MODIFY ANYTHING IN THIS CELL THAT IS BELOW THIS LINE\n",
    "\"\"\"\n",
    "tests.test_train_nn(train_neural_network)"
   ]
  },
  {
   "cell_type": "markdown",
   "metadata": {
    "deletable": true,
    "editable": true
   },
   "source": [
    "### Show Stats\n",
    "Implement the function `print_stats` to print loss and validation accuracy.  Use the global variables `valid_features` and `valid_labels` to calculate validation accuracy.  Use a keep probability of `1.0` to calculate the loss and validation accuracy."
   ]
  },
  {
   "cell_type": "code",
   "execution_count": 15,
   "metadata": {
    "collapsed": false,
    "deletable": true,
    "editable": true
   },
   "outputs": [],
   "source": [
    "def print_stats(session, feature_batch, label_batch, cost, accuracy):\n",
    "    \"\"\"\n",
    "    Print information about loss and validation accuracy\n",
    "    : session: Current TensorFlow session\n",
    "    : feature_batch: Batch of Numpy image data\n",
    "    : label_batch: Batch of Numpy label data\n",
    "    : cost: TensorFlow cost function\n",
    "    : accuracy: TensorFlow accuracy function\n",
    "    \"\"\"\n",
    "    # TODO: Implement Function\n",
    "    loss = session.run(cost, feed_dict = {\n",
    "            x: feature_batch,\n",
    "            y: label_batch,\n",
    "            keep_prob: 1.\n",
    "        })\n",
    "    valid_acc = session.run(accuracy, feed_dict = {\n",
    "            x: valid_features,\n",
    "            y: valid_labels,\n",
    "            keep_prob: 1.\n",
    "        })\n",
    "    print('Epoch {:>2}'\n",
    "          'Loss: {:>10.4f} Validation Accuracy: {:.6f}'.format(\n",
    "        epoch + 1,\n",
    "        loss,\n",
    "        valid_acc))"
   ]
  },
  {
   "cell_type": "markdown",
   "metadata": {
    "deletable": true,
    "editable": true
   },
   "source": [
    "### Hyperparameters\n",
    "Tune the following parameters:\n",
    "* Set `epochs` to the number of iterations until the network stops learning or start overfitting\n",
    "* Set `batch_size` to the highest number that your machine has memory for.  Most people set them to common sizes of memory:\n",
    " * 64\n",
    " * 128\n",
    " * 256\n",
    " * ...\n",
    "* Set `keep_probability` to the probability of keeping a node using dropout"
   ]
  },
  {
   "cell_type": "code",
   "execution_count": 20,
   "metadata": {
    "collapsed": true,
    "deletable": true,
    "editable": true
   },
   "outputs": [],
   "source": [
    "# TODO: Tune Parameters\n",
    "epochs = 50\n",
    "batch_size = 128\n",
    "keep_probability = 0.7"
   ]
  },
  {
   "cell_type": "markdown",
   "metadata": {
    "deletable": true,
    "editable": true
   },
   "source": [
    "### Train on a Single CIFAR-10 Batch\n",
    "Instead of training the neural network on all the CIFAR-10 batches of data, let's use a single batch. This should save time while you iterate on the model to get a better accuracy.  Once the final validation accuracy is 50% or greater, run the model on all the data in the next section."
   ]
  },
  {
   "cell_type": "code",
   "execution_count": 21,
   "metadata": {
    "collapsed": false,
    "deletable": true,
    "editable": true
   },
   "outputs": [
    {
     "name": "stdout",
     "output_type": "stream",
     "text": [
      "Checking the Training on a Single Batch...\n",
      "Epoch  1, CIFAR-10 Batch 1:  Epoch  1Loss:     2.0689 Validation Accuracy: 0.324400\n",
      "Epoch  2, CIFAR-10 Batch 1:  Epoch  2Loss:     1.6828 Validation Accuracy: 0.408400\n",
      "Epoch  3, CIFAR-10 Batch 1:  Epoch  3Loss:     1.4771 Validation Accuracy: 0.433200\n",
      "Epoch  4, CIFAR-10 Batch 1:  Epoch  4Loss:     1.2133 Validation Accuracy: 0.465800\n",
      "Epoch  5, CIFAR-10 Batch 1:  Epoch  5Loss:     1.0443 Validation Accuracy: 0.486000\n",
      "Epoch  6, CIFAR-10 Batch 1:  Epoch  6Loss:     0.7691 Validation Accuracy: 0.493600\n",
      "Epoch  7, CIFAR-10 Batch 1:  Epoch  7Loss:     0.5947 Validation Accuracy: 0.508200\n",
      "Epoch  8, CIFAR-10 Batch 1:  Epoch  8Loss:     0.4295 Validation Accuracy: 0.520800\n",
      "Epoch  9, CIFAR-10 Batch 1:  Epoch  9Loss:     0.3514 Validation Accuracy: 0.513800\n",
      "Epoch 10, CIFAR-10 Batch 1:  Epoch 10Loss:     0.3176 Validation Accuracy: 0.489400\n",
      "Epoch 11, CIFAR-10 Batch 1:  Epoch 11Loss:     0.2467 Validation Accuracy: 0.500400\n",
      "Epoch 12, CIFAR-10 Batch 1:  Epoch 12Loss:     0.2517 Validation Accuracy: 0.500600\n",
      "Epoch 13, CIFAR-10 Batch 1:  Epoch 13Loss:     0.2083 Validation Accuracy: 0.501200\n",
      "Epoch 14, CIFAR-10 Batch 1:  Epoch 14Loss:     0.1101 Validation Accuracy: 0.514000\n",
      "Epoch 15, CIFAR-10 Batch 1:  Epoch 15Loss:     0.0922 Validation Accuracy: 0.501200\n",
      "Epoch 16, CIFAR-10 Batch 1:  Epoch 16Loss:     0.0777 Validation Accuracy: 0.476400\n",
      "Epoch 17, CIFAR-10 Batch 1:  Epoch 17Loss:     0.0809 Validation Accuracy: 0.495400\n",
      "Epoch 18, CIFAR-10 Batch 1:  Epoch 18Loss:     0.0581 Validation Accuracy: 0.493600\n",
      "Epoch 19, CIFAR-10 Batch 1:  Epoch 19Loss:     0.0319 Validation Accuracy: 0.497800\n",
      "Epoch 20, CIFAR-10 Batch 1:  Epoch 20Loss:     0.0291 Validation Accuracy: 0.492400\n",
      "Epoch 21, CIFAR-10 Batch 1:  Epoch 21Loss:     0.0624 Validation Accuracy: 0.510600\n",
      "Epoch 22, CIFAR-10 Batch 1:  Epoch 22Loss:     0.0242 Validation Accuracy: 0.501400\n",
      "Epoch 23, CIFAR-10 Batch 1:  Epoch 23Loss:     0.0154 Validation Accuracy: 0.504200\n",
      "Epoch 24, CIFAR-10 Batch 1:  Epoch 24Loss:     0.0182 Validation Accuracy: 0.510600\n",
      "Epoch 25, CIFAR-10 Batch 1:  Epoch 25Loss:     0.0350 Validation Accuracy: 0.499600\n",
      "Epoch 26, CIFAR-10 Batch 1:  Epoch 26Loss:     0.0114 Validation Accuracy: 0.501200\n",
      "Epoch 27, CIFAR-10 Batch 1:  Epoch 27Loss:     0.0107 Validation Accuracy: 0.494800\n",
      "Epoch 28, CIFAR-10 Batch 1:  Epoch 28Loss:     0.0054 Validation Accuracy: 0.479200\n",
      "Epoch 29, CIFAR-10 Batch 1:  Epoch 29Loss:     0.0105 Validation Accuracy: 0.492600\n",
      "Epoch 30, CIFAR-10 Batch 1:  Epoch 30Loss:     0.0039 Validation Accuracy: 0.487000\n",
      "Epoch 31, CIFAR-10 Batch 1:  Epoch 31Loss:     0.0090 Validation Accuracy: 0.502000\n",
      "Epoch 32, CIFAR-10 Batch 1:  Epoch 32Loss:     0.0023 Validation Accuracy: 0.501600\n",
      "Epoch 33, CIFAR-10 Batch 1:  Epoch 33Loss:     0.0038 Validation Accuracy: 0.479200\n",
      "Epoch 34, CIFAR-10 Batch 1:  Epoch 34Loss:     0.0049 Validation Accuracy: 0.501000\n",
      "Epoch 35, CIFAR-10 Batch 1:  Epoch 35Loss:     0.0053 Validation Accuracy: 0.485800\n",
      "Epoch 36, CIFAR-10 Batch 1:  Epoch 36Loss:     0.0033 Validation Accuracy: 0.494400\n",
      "Epoch 37, CIFAR-10 Batch 1:  Epoch 37Loss:     0.0015 Validation Accuracy: 0.495200\n",
      "Epoch 38, CIFAR-10 Batch 1:  Epoch 38Loss:     0.0007 Validation Accuracy: 0.492000\n",
      "Epoch 39, CIFAR-10 Batch 1:  Epoch 39Loss:     0.0025 Validation Accuracy: 0.505400\n",
      "Epoch 40, CIFAR-10 Batch 1:  Epoch 40Loss:     0.0004 Validation Accuracy: 0.505000\n",
      "Epoch 41, CIFAR-10 Batch 1:  Epoch 41Loss:     0.0004 Validation Accuracy: 0.502200\n",
      "Epoch 42, CIFAR-10 Batch 1:  Epoch 42Loss:     0.0004 Validation Accuracy: 0.511200\n",
      "Epoch 43, CIFAR-10 Batch 1:  Epoch 43Loss:     0.0003 Validation Accuracy: 0.515000\n",
      "Epoch 44, CIFAR-10 Batch 1:  Epoch 44Loss:     0.0013 Validation Accuracy: 0.505200\n",
      "Epoch 45, CIFAR-10 Batch 1:  Epoch 45Loss:     0.0017 Validation Accuracy: 0.504000\n",
      "Epoch 46, CIFAR-10 Batch 1:  Epoch 46Loss:     0.0003 Validation Accuracy: 0.498600\n",
      "Epoch 47, CIFAR-10 Batch 1:  Epoch 47Loss:     0.0005 Validation Accuracy: 0.502400\n",
      "Epoch 48, CIFAR-10 Batch 1:  Epoch 48Loss:     0.0016 Validation Accuracy: 0.509800\n",
      "Epoch 49, CIFAR-10 Batch 1:  Epoch 49Loss:     0.0003 Validation Accuracy: 0.505000\n",
      "Epoch 50, CIFAR-10 Batch 1:  Epoch 50Loss:     0.0071 Validation Accuracy: 0.494000\n"
     ]
    }
   ],
   "source": [
    "\"\"\"\n",
    "DON'T MODIFY ANYTHING IN THIS CELL\n",
    "\"\"\"\n",
    "print('Checking the Training on a Single Batch...')\n",
    "with tf.Session() as sess:\n",
    "    # Initializing the variables\n",
    "    sess.run(tf.global_variables_initializer())\n",
    "    \n",
    "    # Training cycle\n",
    "    for epoch in range(epochs):\n",
    "        batch_i = 1\n",
    "        for batch_features, batch_labels in helper.load_preprocess_training_batch(batch_i, batch_size):\n",
    "            train_neural_network(sess, optimizer, keep_probability, batch_features, batch_labels)\n",
    "        print('Epoch {:>2}, CIFAR-10 Batch {}:  '.format(epoch + 1, batch_i), end='')\n",
    "        print_stats(sess, batch_features, batch_labels, cost, accuracy)"
   ]
  },
  {
   "cell_type": "markdown",
   "metadata": {
    "deletable": true,
    "editable": true
   },
   "source": [
    "### Fully Train the Model\n",
    "Now that you got a good accuracy with a single CIFAR-10 batch, try it with all five batches."
   ]
  },
  {
   "cell_type": "code",
   "execution_count": 22,
   "metadata": {
    "collapsed": false,
    "deletable": true,
    "editable": true
   },
   "outputs": [
    {
     "name": "stdout",
     "output_type": "stream",
     "text": [
      "Training...\n",
      "Epoch  1, CIFAR-10 Batch 1:  Epoch  1Loss:     1.8738 Validation Accuracy: 0.368200\n",
      "Epoch  1, CIFAR-10 Batch 2:  Epoch  1Loss:     1.5823 Validation Accuracy: 0.441400\n",
      "Epoch  1, CIFAR-10 Batch 3:  Epoch  1Loss:     1.3336 Validation Accuracy: 0.470800\n",
      "Epoch  1, CIFAR-10 Batch 4:  Epoch  1Loss:     1.3417 Validation Accuracy: 0.487400\n",
      "Epoch  1, CIFAR-10 Batch 5:  Epoch  1Loss:     1.4305 Validation Accuracy: 0.508800\n",
      "Epoch  2, CIFAR-10 Batch 1:  Epoch  2Loss:     1.4864 Validation Accuracy: 0.522200\n",
      "Epoch  2, CIFAR-10 Batch 2:  Epoch  2Loss:     1.2645 Validation Accuracy: 0.494200\n",
      "Epoch  2, CIFAR-10 Batch 3:  Epoch  2Loss:     1.0443 Validation Accuracy: 0.529800\n",
      "Epoch  2, CIFAR-10 Batch 4:  Epoch  2Loss:     0.9794 Validation Accuracy: 0.543600\n",
      "Epoch  2, CIFAR-10 Batch 5:  Epoch  2Loss:     1.0754 Validation Accuracy: 0.560600\n",
      "Epoch  3, CIFAR-10 Batch 1:  Epoch  3Loss:     1.2069 Validation Accuracy: 0.570400\n",
      "Epoch  3, CIFAR-10 Batch 2:  Epoch  3Loss:     0.8805 Validation Accuracy: 0.558200\n",
      "Epoch  3, CIFAR-10 Batch 3:  Epoch  3Loss:     0.8081 Validation Accuracy: 0.565800\n",
      "Epoch  3, CIFAR-10 Batch 4:  Epoch  3Loss:     0.6985 Validation Accuracy: 0.573600\n",
      "Epoch  3, CIFAR-10 Batch 5:  Epoch  3Loss:     0.7833 Validation Accuracy: 0.588600\n",
      "Epoch  4, CIFAR-10 Batch 1:  Epoch  4Loss:     0.8870 Validation Accuracy: 0.595200\n",
      "Epoch  4, CIFAR-10 Batch 2:  Epoch  4Loss:     0.6824 Validation Accuracy: 0.567000\n",
      "Epoch  4, CIFAR-10 Batch 3:  Epoch  4Loss:     0.5241 Validation Accuracy: 0.584600\n",
      "Epoch  4, CIFAR-10 Batch 4:  Epoch  4Loss:     0.5443 Validation Accuracy: 0.587200\n",
      "Epoch  4, CIFAR-10 Batch 5:  Epoch  4Loss:     0.5818 Validation Accuracy: 0.602800\n",
      "Epoch  5, CIFAR-10 Batch 1:  Epoch  5Loss:     0.7173 Validation Accuracy: 0.606000\n",
      "Epoch  5, CIFAR-10 Batch 2:  Epoch  5Loss:     0.5072 Validation Accuracy: 0.606600\n",
      "Epoch  5, CIFAR-10 Batch 3:  Epoch  5Loss:     0.3386 Validation Accuracy: 0.605600\n",
      "Epoch  5, CIFAR-10 Batch 4:  Epoch  5Loss:     0.3653 Validation Accuracy: 0.601800\n",
      "Epoch  5, CIFAR-10 Batch 5:  Epoch  5Loss:     0.4318 Validation Accuracy: 0.611600\n",
      "Epoch  6, CIFAR-10 Batch 1:  Epoch  6Loss:     0.4580 Validation Accuracy: 0.599000\n",
      "Epoch  6, CIFAR-10 Batch 2:  Epoch  6Loss:     0.4068 Validation Accuracy: 0.603600\n",
      "Epoch  6, CIFAR-10 Batch 3:  Epoch  6Loss:     0.3076 Validation Accuracy: 0.585600\n",
      "Epoch  6, CIFAR-10 Batch 4:  Epoch  6Loss:     0.3173 Validation Accuracy: 0.599200\n",
      "Epoch  6, CIFAR-10 Batch 5:  Epoch  6Loss:     0.3254 Validation Accuracy: 0.603400\n",
      "Epoch  7, CIFAR-10 Batch 1:  Epoch  7Loss:     0.4114 Validation Accuracy: 0.588000\n",
      "Epoch  7, CIFAR-10 Batch 2:  Epoch  7Loss:     0.3155 Validation Accuracy: 0.600000\n",
      "Epoch  7, CIFAR-10 Batch 3:  Epoch  7Loss:     0.2147 Validation Accuracy: 0.582600\n",
      "Epoch  7, CIFAR-10 Batch 4:  Epoch  7Loss:     0.2036 Validation Accuracy: 0.598000\n",
      "Epoch  7, CIFAR-10 Batch 5:  Epoch  7Loss:     0.3051 Validation Accuracy: 0.577600\n",
      "Epoch  8, CIFAR-10 Batch 1:  Epoch  8Loss:     0.3322 Validation Accuracy: 0.608200\n",
      "Epoch  8, CIFAR-10 Batch 2:  Epoch  8Loss:     0.2317 Validation Accuracy: 0.617200\n",
      "Epoch  8, CIFAR-10 Batch 3:  Epoch  8Loss:     0.1924 Validation Accuracy: 0.601200\n",
      "Epoch  8, CIFAR-10 Batch 4:  Epoch  8Loss:     0.1808 Validation Accuracy: 0.604400\n",
      "Epoch  8, CIFAR-10 Batch 5:  Epoch  8Loss:     0.2921 Validation Accuracy: 0.596800\n",
      "Epoch  9, CIFAR-10 Batch 1:  Epoch  9Loss:     0.2469 Validation Accuracy: 0.590400\n",
      "Epoch  9, CIFAR-10 Batch 2:  Epoch  9Loss:     0.2039 Validation Accuracy: 0.606800\n",
      "Epoch  9, CIFAR-10 Batch 3:  Epoch  9Loss:     0.1080 Validation Accuracy: 0.604600\n",
      "Epoch  9, CIFAR-10 Batch 4:  Epoch  9Loss:     0.1731 Validation Accuracy: 0.606800\n",
      "Epoch  9, CIFAR-10 Batch 5:  Epoch  9Loss:     0.2694 Validation Accuracy: 0.593400\n",
      "Epoch 10, CIFAR-10 Batch 1:  Epoch 10Loss:     0.2436 Validation Accuracy: 0.596400\n",
      "Epoch 10, CIFAR-10 Batch 2:  Epoch 10Loss:     0.1682 Validation Accuracy: 0.612400\n",
      "Epoch 10, CIFAR-10 Batch 3:  Epoch 10Loss:     0.0924 Validation Accuracy: 0.593400\n",
      "Epoch 10, CIFAR-10 Batch 4:  Epoch 10Loss:     0.2142 Validation Accuracy: 0.603000\n",
      "Epoch 10, CIFAR-10 Batch 5:  Epoch 10Loss:     0.1566 Validation Accuracy: 0.608000\n",
      "Epoch 11, CIFAR-10 Batch 1:  Epoch 11Loss:     0.1751 Validation Accuracy: 0.603000\n",
      "Epoch 11, CIFAR-10 Batch 2:  Epoch 11Loss:     0.1074 Validation Accuracy: 0.602200\n",
      "Epoch 11, CIFAR-10 Batch 3:  Epoch 11Loss:     0.0618 Validation Accuracy: 0.601800\n",
      "Epoch 11, CIFAR-10 Batch 4:  Epoch 11Loss:     0.1758 Validation Accuracy: 0.603800\n",
      "Epoch 11, CIFAR-10 Batch 5:  Epoch 11Loss:     0.1078 Validation Accuracy: 0.620200\n",
      "Epoch 12, CIFAR-10 Batch 1:  Epoch 12Loss:     0.1465 Validation Accuracy: 0.591400\n",
      "Epoch 12, CIFAR-10 Batch 2:  Epoch 12Loss:     0.1008 Validation Accuracy: 0.606200\n",
      "Epoch 12, CIFAR-10 Batch 3:  Epoch 12Loss:     0.0860 Validation Accuracy: 0.590000\n",
      "Epoch 12, CIFAR-10 Batch 4:  Epoch 12Loss:     0.1818 Validation Accuracy: 0.587600\n",
      "Epoch 12, CIFAR-10 Batch 5:  Epoch 12Loss:     0.0871 Validation Accuracy: 0.616200\n",
      "Epoch 13, CIFAR-10 Batch 1:  Epoch 13Loss:     0.1223 Validation Accuracy: 0.595600\n",
      "Epoch 13, CIFAR-10 Batch 2:  Epoch 13Loss:     0.0906 Validation Accuracy: 0.603200\n",
      "Epoch 13, CIFAR-10 Batch 3:  Epoch 13Loss:     0.0571 Validation Accuracy: 0.590000\n",
      "Epoch 13, CIFAR-10 Batch 4:  Epoch 13Loss:     0.1184 Validation Accuracy: 0.586400\n",
      "Epoch 13, CIFAR-10 Batch 5:  Epoch 13Loss:     0.0762 Validation Accuracy: 0.610200\n",
      "Epoch 14, CIFAR-10 Batch 1:  Epoch 14Loss:     0.0960 Validation Accuracy: 0.575200\n",
      "Epoch 14, CIFAR-10 Batch 2:  Epoch 14Loss:     0.0502 Validation Accuracy: 0.620600\n",
      "Epoch 14, CIFAR-10 Batch 3:  Epoch 14Loss:     0.0444 Validation Accuracy: 0.604000\n",
      "Epoch 14, CIFAR-10 Batch 4:  Epoch 14Loss:     0.0745 Validation Accuracy: 0.602000\n",
      "Epoch 14, CIFAR-10 Batch 5:  Epoch 14Loss:     0.0877 Validation Accuracy: 0.601800\n",
      "Epoch 15, CIFAR-10 Batch 1:  Epoch 15Loss:     0.0395 Validation Accuracy: 0.593000\n",
      "Epoch 15, CIFAR-10 Batch 2:  Epoch 15Loss:     0.0488 Validation Accuracy: 0.613200\n",
      "Epoch 15, CIFAR-10 Batch 3:  Epoch 15Loss:     0.0470 Validation Accuracy: 0.608000\n",
      "Epoch 15, CIFAR-10 Batch 4:  Epoch 15Loss:     0.0758 Validation Accuracy: 0.595600\n",
      "Epoch 15, CIFAR-10 Batch 5:  Epoch 15Loss:     0.0815 Validation Accuracy: 0.592000\n",
      "Epoch 16, CIFAR-10 Batch 1:  Epoch 16Loss:     0.0488 Validation Accuracy: 0.601000\n",
      "Epoch 16, CIFAR-10 Batch 2:  Epoch 16Loss:     0.0670 Validation Accuracy: 0.600200\n",
      "Epoch 16, CIFAR-10 Batch 3:  Epoch 16Loss:     0.0325 Validation Accuracy: 0.604400\n",
      "Epoch 16, CIFAR-10 Batch 4:  Epoch 16Loss:     0.0776 Validation Accuracy: 0.584400\n",
      "Epoch 16, CIFAR-10 Batch 5:  Epoch 16Loss:     0.0229 Validation Accuracy: 0.609000\n",
      "Epoch 17, CIFAR-10 Batch 1:  Epoch 17Loss:     0.0329 Validation Accuracy: 0.607400\n",
      "Epoch 17, CIFAR-10 Batch 2:  Epoch 17Loss:     0.0454 Validation Accuracy: 0.611600\n",
      "Epoch 17, CIFAR-10 Batch 3:  Epoch 17Loss:     0.0195 Validation Accuracy: 0.586200\n",
      "Epoch 17, CIFAR-10 Batch 4:  Epoch 17Loss:     0.0584 Validation Accuracy: 0.580400\n",
      "Epoch 17, CIFAR-10 Batch 5:  Epoch 17Loss:     0.0354 Validation Accuracy: 0.582400\n",
      "Epoch 18, CIFAR-10 Batch 1:  Epoch 18Loss:     0.0488 Validation Accuracy: 0.608400\n",
      "Epoch 18, CIFAR-10 Batch 2:  Epoch 18Loss:     0.0354 Validation Accuracy: 0.597600\n",
      "Epoch 18, CIFAR-10 Batch 3:  Epoch 18Loss:     0.0172 Validation Accuracy: 0.598000\n",
      "Epoch 18, CIFAR-10 Batch 4:  Epoch 18Loss:     0.0578 Validation Accuracy: 0.572400\n",
      "Epoch 18, CIFAR-10 Batch 5:  Epoch 18Loss:     0.0410 Validation Accuracy: 0.598000\n",
      "Epoch 19, CIFAR-10 Batch 1:  Epoch 19Loss:     0.0386 Validation Accuracy: 0.612600\n",
      "Epoch 19, CIFAR-10 Batch 2:  Epoch 19Loss:     0.0224 Validation Accuracy: 0.606000\n",
      "Epoch 19, CIFAR-10 Batch 3:  Epoch 19Loss:     0.0304 Validation Accuracy: 0.607200\n",
      "Epoch 19, CIFAR-10 Batch 4:  Epoch 19Loss:     0.0472 Validation Accuracy: 0.592400\n",
      "Epoch 19, CIFAR-10 Batch 5:  Epoch 19Loss:     0.0291 Validation Accuracy: 0.591000\n",
      "Epoch 20, CIFAR-10 Batch 1:  Epoch 20Loss:     0.0409 Validation Accuracy: 0.603800\n",
      "Epoch 20, CIFAR-10 Batch 2:  Epoch 20Loss:     0.0209 Validation Accuracy: 0.608200\n",
      "Epoch 20, CIFAR-10 Batch 3:  Epoch 20Loss:     0.0142 Validation Accuracy: 0.598600\n",
      "Epoch 20, CIFAR-10 Batch 4:  Epoch 20Loss:     0.0270 Validation Accuracy: 0.586000\n",
      "Epoch 20, CIFAR-10 Batch 5:  Epoch 20Loss:     0.0238 Validation Accuracy: 0.589400\n",
      "Epoch 21, CIFAR-10 Batch 1:  Epoch 21Loss:     0.0240 Validation Accuracy: 0.606400\n",
      "Epoch 21, CIFAR-10 Batch 2:  Epoch 21Loss:     0.0245 Validation Accuracy: 0.597000\n",
      "Epoch 21, CIFAR-10 Batch 3:  Epoch 21Loss:     0.0143 Validation Accuracy: 0.595200\n",
      "Epoch 21, CIFAR-10 Batch 4:  Epoch 21Loss:     0.0434 Validation Accuracy: 0.592600\n",
      "Epoch 21, CIFAR-10 Batch 5:  Epoch 21Loss:     0.0058 Validation Accuracy: 0.604000\n",
      "Epoch 22, CIFAR-10 Batch 1:  Epoch 22Loss:     0.0378 Validation Accuracy: 0.610200\n",
      "Epoch 22, CIFAR-10 Batch 2:  Epoch 22Loss:     0.0292 Validation Accuracy: 0.606400\n",
      "Epoch 22, CIFAR-10 Batch 3:  Epoch 22Loss:     0.0234 Validation Accuracy: 0.593000\n",
      "Epoch 22, CIFAR-10 Batch 4:  Epoch 22Loss:     0.0538 Validation Accuracy: 0.599400\n",
      "Epoch 22, CIFAR-10 Batch 5:  Epoch 22Loss:     0.0228 Validation Accuracy: 0.598800\n",
      "Epoch 23, CIFAR-10 Batch 1:  Epoch 23Loss:     0.0131 Validation Accuracy: 0.600200\n",
      "Epoch 23, CIFAR-10 Batch 2:  Epoch 23Loss:     0.0179 Validation Accuracy: 0.606400\n",
      "Epoch 23, CIFAR-10 Batch 3:  Epoch 23Loss:     0.0140 Validation Accuracy: 0.591800\n",
      "Epoch 23, CIFAR-10 Batch 4:  Epoch 23Loss:     0.0447 Validation Accuracy: 0.594800\n",
      "Epoch 23, CIFAR-10 Batch 5:  Epoch 23Loss:     0.0076 Validation Accuracy: 0.588200\n",
      "Epoch 24, CIFAR-10 Batch 1:  Epoch 24Loss:     0.0361 Validation Accuracy: 0.597400\n",
      "Epoch 24, CIFAR-10 Batch 2:  Epoch 24Loss:     0.0037 Validation Accuracy: 0.604200\n",
      "Epoch 24, CIFAR-10 Batch 3:  Epoch 24Loss:     0.0169 Validation Accuracy: 0.577600\n",
      "Epoch 24, CIFAR-10 Batch 4:  Epoch 24Loss:     0.0366 Validation Accuracy: 0.597600\n",
      "Epoch 24, CIFAR-10 Batch 5:  Epoch 24Loss:     0.0190 Validation Accuracy: 0.587800\n",
      "Epoch 25, CIFAR-10 Batch 1:  Epoch 25Loss:     0.0163 Validation Accuracy: 0.607000\n",
      "Epoch 25, CIFAR-10 Batch 2:  Epoch 25Loss:     0.0083 Validation Accuracy: 0.594400\n",
      "Epoch 25, CIFAR-10 Batch 3:  Epoch 25Loss:     0.0132 Validation Accuracy: 0.593400\n",
      "Epoch 25, CIFAR-10 Batch 4:  Epoch 25Loss:     0.0403 Validation Accuracy: 0.590000\n",
      "Epoch 25, CIFAR-10 Batch 5:  Epoch 25Loss:     0.0035 Validation Accuracy: 0.608800\n",
      "Epoch 26, CIFAR-10 Batch 1:  Epoch 26Loss:     0.0162 Validation Accuracy: 0.612800\n",
      "Epoch 26, CIFAR-10 Batch 2:  Epoch 26Loss:     0.0093 Validation Accuracy: 0.602000\n",
      "Epoch 26, CIFAR-10 Batch 3:  Epoch 26Loss:     0.0118 Validation Accuracy: 0.609800\n",
      "Epoch 26, CIFAR-10 Batch 4:  Epoch 26Loss:     0.0150 Validation Accuracy: 0.584400\n",
      "Epoch 26, CIFAR-10 Batch 5:  Epoch 26Loss:     0.0064 Validation Accuracy: 0.595600\n",
      "Epoch 27, CIFAR-10 Batch 1:  Epoch 27Loss:     0.0275 Validation Accuracy: 0.603400\n",
      "Epoch 27, CIFAR-10 Batch 2:  Epoch 27Loss:     0.0076 Validation Accuracy: 0.606800\n",
      "Epoch 27, CIFAR-10 Batch 3:  Epoch 27Loss:     0.0039 Validation Accuracy: 0.610200\n",
      "Epoch 27, CIFAR-10 Batch 4:  Epoch 27Loss:     0.0081 Validation Accuracy: 0.593400\n",
      "Epoch 27, CIFAR-10 Batch 5:  Epoch 27Loss:     0.0076 Validation Accuracy: 0.608200\n",
      "Epoch 28, CIFAR-10 Batch 1:  Epoch 28Loss:     0.0067 Validation Accuracy: 0.615400\n",
      "Epoch 28, CIFAR-10 Batch 2:  Epoch 28Loss:     0.0112 Validation Accuracy: 0.614000\n",
      "Epoch 28, CIFAR-10 Batch 3:  Epoch 28Loss:     0.0128 Validation Accuracy: 0.594000\n",
      "Epoch 28, CIFAR-10 Batch 4:  Epoch 28Loss:     0.0042 Validation Accuracy: 0.601200\n",
      "Epoch 28, CIFAR-10 Batch 5:  Epoch 28Loss:     0.0069 Validation Accuracy: 0.609400\n",
      "Epoch 29, CIFAR-10 Batch 1:  Epoch 29Loss:     0.0088 Validation Accuracy: 0.607000\n",
      "Epoch 29, CIFAR-10 Batch 2:  Epoch 29Loss:     0.0105 Validation Accuracy: 0.606600\n",
      "Epoch 29, CIFAR-10 Batch 3:  Epoch 29Loss:     0.0080 Validation Accuracy: 0.602000\n",
      "Epoch 29, CIFAR-10 Batch 4:  Epoch 29Loss:     0.0192 Validation Accuracy: 0.602400\n",
      "Epoch 29, CIFAR-10 Batch 5:  Epoch 29Loss:     0.0067 Validation Accuracy: 0.596200\n",
      "Epoch 30, CIFAR-10 Batch 1:  Epoch 30Loss:     0.0084 Validation Accuracy: 0.601400\n",
      "Epoch 30, CIFAR-10 Batch 2:  Epoch 30Loss:     0.0308 Validation Accuracy: 0.595600\n",
      "Epoch 30, CIFAR-10 Batch 3:  Epoch 30Loss:     0.0042 Validation Accuracy: 0.600800\n",
      "Epoch 30, CIFAR-10 Batch 4:  Epoch 30Loss:     0.0030 Validation Accuracy: 0.596200\n",
      "Epoch 30, CIFAR-10 Batch 5:  Epoch 30Loss:     0.0064 Validation Accuracy: 0.605800\n",
      "Epoch 31, CIFAR-10 Batch 1:  Epoch 31Loss:     0.0047 Validation Accuracy: 0.605600\n",
      "Epoch 31, CIFAR-10 Batch 2:  Epoch 31Loss:     0.0059 Validation Accuracy: 0.608600\n",
      "Epoch 31, CIFAR-10 Batch 3:  Epoch 31Loss:     0.0110 Validation Accuracy: 0.609600\n",
      "Epoch 31, CIFAR-10 Batch 4:  Epoch 31Loss:     0.0200 Validation Accuracy: 0.614000\n",
      "Epoch 31, CIFAR-10 Batch 5:  Epoch 31Loss:     0.0235 Validation Accuracy: 0.596800\n",
      "Epoch 32, CIFAR-10 Batch 1:  Epoch 32Loss:     0.0058 Validation Accuracy: 0.618200\n",
      "Epoch 32, CIFAR-10 Batch 2:  Epoch 32Loss:     0.0010 Validation Accuracy: 0.611800\n",
      "Epoch 32, CIFAR-10 Batch 3:  Epoch 32Loss:     0.0044 Validation Accuracy: 0.611200\n",
      "Epoch 32, CIFAR-10 Batch 4:  Epoch 32Loss:     0.0031 Validation Accuracy: 0.602400\n",
      "Epoch 32, CIFAR-10 Batch 5:  Epoch 32Loss:     0.0027 Validation Accuracy: 0.612400\n",
      "Epoch 33, CIFAR-10 Batch 1:  Epoch 33Loss:     0.0074 Validation Accuracy: 0.612800\n",
      "Epoch 33, CIFAR-10 Batch 2:  Epoch 33Loss:     0.0013 Validation Accuracy: 0.593200\n",
      "Epoch 33, CIFAR-10 Batch 3:  Epoch 33Loss:     0.0053 Validation Accuracy: 0.610000\n",
      "Epoch 33, CIFAR-10 Batch 4:  Epoch 33Loss:     0.0021 Validation Accuracy: 0.604600\n",
      "Epoch 33, CIFAR-10 Batch 5:  Epoch 33Loss:     0.0021 Validation Accuracy: 0.612600\n",
      "Epoch 34, CIFAR-10 Batch 1:  Epoch 34Loss:     0.0067 Validation Accuracy: 0.599400\n",
      "Epoch 34, CIFAR-10 Batch 2:  Epoch 34Loss:     0.0008 Validation Accuracy: 0.602200\n",
      "Epoch 34, CIFAR-10 Batch 3:  Epoch 34Loss:     0.0028 Validation Accuracy: 0.600400\n",
      "Epoch 34, CIFAR-10 Batch 4:  Epoch 34Loss:     0.0024 Validation Accuracy: 0.610600\n",
      "Epoch 34, CIFAR-10 Batch 5:  Epoch 34Loss:     0.0047 Validation Accuracy: 0.619800\n",
      "Epoch 35, CIFAR-10 Batch 1:  Epoch 35Loss:     0.0068 Validation Accuracy: 0.614200\n",
      "Epoch 35, CIFAR-10 Batch 2:  Epoch 35Loss:     0.0040 Validation Accuracy: 0.596400\n",
      "Epoch 35, CIFAR-10 Batch 3:  Epoch 35Loss:     0.0022 Validation Accuracy: 0.593000\n",
      "Epoch 35, CIFAR-10 Batch 4:  Epoch 35Loss:     0.0058 Validation Accuracy: 0.601200\n",
      "Epoch 35, CIFAR-10 Batch 5:  Epoch 35Loss:     0.0009 Validation Accuracy: 0.609800\n",
      "Epoch 36, CIFAR-10 Batch 1:  Epoch 36Loss:     0.0036 Validation Accuracy: 0.599000\n",
      "Epoch 36, CIFAR-10 Batch 2:  Epoch 36Loss:     0.0023 Validation Accuracy: 0.605200\n",
      "Epoch 36, CIFAR-10 Batch 3:  Epoch 36Loss:     0.0012 Validation Accuracy: 0.607000\n",
      "Epoch 36, CIFAR-10 Batch 4:  Epoch 36Loss:     0.0030 Validation Accuracy: 0.610000\n",
      "Epoch 36, CIFAR-10 Batch 5:  Epoch 36Loss:     0.0080 Validation Accuracy: 0.604800\n",
      "Epoch 37, CIFAR-10 Batch 1:  Epoch 37Loss:     0.0214 Validation Accuracy: 0.603200\n",
      "Epoch 37, CIFAR-10 Batch 2:  Epoch 37Loss:     0.0062 Validation Accuracy: 0.606800\n",
      "Epoch 37, CIFAR-10 Batch 3:  Epoch 37Loss:     0.0187 Validation Accuracy: 0.612000\n",
      "Epoch 37, CIFAR-10 Batch 4:  Epoch 37Loss:     0.0013 Validation Accuracy: 0.597000\n",
      "Epoch 37, CIFAR-10 Batch 5:  Epoch 37Loss:     0.0023 Validation Accuracy: 0.606800\n",
      "Epoch 38, CIFAR-10 Batch 1:  Epoch 38Loss:     0.0026 Validation Accuracy: 0.612600\n",
      "Epoch 38, CIFAR-10 Batch 2:  Epoch 38Loss:     0.0038 Validation Accuracy: 0.597400\n",
      "Epoch 38, CIFAR-10 Batch 3:  Epoch 38Loss:     0.0005 Validation Accuracy: 0.600800\n",
      "Epoch 38, CIFAR-10 Batch 4:  Epoch 38Loss:     0.0047 Validation Accuracy: 0.605200\n",
      "Epoch 38, CIFAR-10 Batch 5:  Epoch 38Loss:     0.0032 Validation Accuracy: 0.614200\n",
      "Epoch 39, CIFAR-10 Batch 1:  Epoch 39Loss:     0.0039 Validation Accuracy: 0.606200\n",
      "Epoch 39, CIFAR-10 Batch 2:  Epoch 39Loss:     0.0020 Validation Accuracy: 0.606200\n",
      "Epoch 39, CIFAR-10 Batch 3:  Epoch 39Loss:     0.0020 Validation Accuracy: 0.612800\n",
      "Epoch 39, CIFAR-10 Batch 4:  Epoch 39Loss:     0.0030 Validation Accuracy: 0.602400\n",
      "Epoch 39, CIFAR-10 Batch 5:  Epoch 39Loss:     0.0020 Validation Accuracy: 0.615000\n",
      "Epoch 40, CIFAR-10 Batch 1:  Epoch 40Loss:     0.0041 Validation Accuracy: 0.607200\n",
      "Epoch 40, CIFAR-10 Batch 2:  Epoch 40Loss:     0.0072 Validation Accuracy: 0.605600\n",
      "Epoch 40, CIFAR-10 Batch 3:  Epoch 40Loss:     0.0008 Validation Accuracy: 0.608800\n",
      "Epoch 40, CIFAR-10 Batch 4:  Epoch 40Loss:     0.0022 Validation Accuracy: 0.598000\n",
      "Epoch 40, CIFAR-10 Batch 5:  Epoch 40Loss:     0.0073 Validation Accuracy: 0.611800\n",
      "Epoch 41, CIFAR-10 Batch 1:  Epoch 41Loss:     0.0018 Validation Accuracy: 0.612000\n",
      "Epoch 41, CIFAR-10 Batch 2:  Epoch 41Loss:     0.0038 Validation Accuracy: 0.611800\n",
      "Epoch 41, CIFAR-10 Batch 3:  Epoch 41Loss:     0.0086 Validation Accuracy: 0.600400\n",
      "Epoch 41, CIFAR-10 Batch 4:  Epoch 41Loss:     0.0023 Validation Accuracy: 0.596400\n",
      "Epoch 41, CIFAR-10 Batch 5:  Epoch 41Loss:     0.0010 Validation Accuracy: 0.617400\n",
      "Epoch 42, CIFAR-10 Batch 1:  Epoch 42Loss:     0.0201 Validation Accuracy: 0.607800\n",
      "Epoch 42, CIFAR-10 Batch 2:  Epoch 42Loss:     0.0014 Validation Accuracy: 0.615000\n",
      "Epoch 42, CIFAR-10 Batch 3:  Epoch 42Loss:     0.0026 Validation Accuracy: 0.600800\n",
      "Epoch 42, CIFAR-10 Batch 4:  Epoch 42Loss:     0.0139 Validation Accuracy: 0.596400\n",
      "Epoch 42, CIFAR-10 Batch 5:  Epoch 42Loss:     0.0017 Validation Accuracy: 0.604800\n",
      "Epoch 43, CIFAR-10 Batch 1:  Epoch 43Loss:     0.0035 Validation Accuracy: 0.608400\n",
      "Epoch 43, CIFAR-10 Batch 2:  Epoch 43Loss:     0.0016 Validation Accuracy: 0.622800\n",
      "Epoch 43, CIFAR-10 Batch 3:  Epoch 43Loss:     0.0030 Validation Accuracy: 0.615000\n",
      "Epoch 43, CIFAR-10 Batch 4:  Epoch 43Loss:     0.0016 Validation Accuracy: 0.595600\n",
      "Epoch 43, CIFAR-10 Batch 5:  Epoch 43Loss:     0.0038 Validation Accuracy: 0.604600\n",
      "Epoch 44, CIFAR-10 Batch 1:  Epoch 44Loss:     0.0022 Validation Accuracy: 0.600000\n",
      "Epoch 44, CIFAR-10 Batch 2:  Epoch 44Loss:     0.0033 Validation Accuracy: 0.605400\n",
      "Epoch 44, CIFAR-10 Batch 3:  Epoch 44Loss:     0.0065 Validation Accuracy: 0.603200\n",
      "Epoch 44, CIFAR-10 Batch 4:  Epoch 44Loss:     0.0048 Validation Accuracy: 0.599400\n",
      "Epoch 44, CIFAR-10 Batch 5:  Epoch 44Loss:     0.0020 Validation Accuracy: 0.606400\n",
      "Epoch 45, CIFAR-10 Batch 1:  Epoch 45Loss:     0.0011 Validation Accuracy: 0.602800\n",
      "Epoch 45, CIFAR-10 Batch 2:  Epoch 45Loss:     0.0082 Validation Accuracy: 0.609600\n",
      "Epoch 45, CIFAR-10 Batch 3:  Epoch 45Loss:     0.0016 Validation Accuracy: 0.604200\n",
      "Epoch 45, CIFAR-10 Batch 4:  Epoch 45Loss:     0.0018 Validation Accuracy: 0.603200\n",
      "Epoch 45, CIFAR-10 Batch 5:  Epoch 45Loss:     0.0020 Validation Accuracy: 0.601200\n",
      "Epoch 46, CIFAR-10 Batch 1:  Epoch 46Loss:     0.0015 Validation Accuracy: 0.585800\n",
      "Epoch 46, CIFAR-10 Batch 2:  Epoch 46Loss:     0.0009 Validation Accuracy: 0.611200\n",
      "Epoch 46, CIFAR-10 Batch 3:  Epoch 46Loss:     0.0010 Validation Accuracy: 0.603800\n",
      "Epoch 46, CIFAR-10 Batch 4:  Epoch 46Loss:     0.0034 Validation Accuracy: 0.587800\n",
      "Epoch 46, CIFAR-10 Batch 5:  Epoch 46Loss:     0.0003 Validation Accuracy: 0.605600\n",
      "Epoch 47, CIFAR-10 Batch 1:  Epoch 47Loss:     0.0009 Validation Accuracy: 0.611600\n",
      "Epoch 47, CIFAR-10 Batch 2:  Epoch 47Loss:     0.0015 Validation Accuracy: 0.605200\n",
      "Epoch 47, CIFAR-10 Batch 3:  Epoch 47Loss:     0.0012 Validation Accuracy: 0.606000\n",
      "Epoch 47, CIFAR-10 Batch 4:  Epoch 47Loss:     0.0051 Validation Accuracy: 0.598800\n",
      "Epoch 47, CIFAR-10 Batch 5:  Epoch 47Loss:     0.0025 Validation Accuracy: 0.616000\n",
      "Epoch 48, CIFAR-10 Batch 1:  Epoch 48Loss:     0.0028 Validation Accuracy: 0.607000\n",
      "Epoch 48, CIFAR-10 Batch 2:  Epoch 48Loss:     0.0033 Validation Accuracy: 0.608000\n",
      "Epoch 48, CIFAR-10 Batch 3:  Epoch 48Loss:     0.0032 Validation Accuracy: 0.619200\n",
      "Epoch 48, CIFAR-10 Batch 4:  Epoch 48Loss:     0.0025 Validation Accuracy: 0.608800\n",
      "Epoch 48, CIFAR-10 Batch 5:  Epoch 48Loss:     0.0029 Validation Accuracy: 0.614600\n",
      "Epoch 49, CIFAR-10 Batch 1:  Epoch 49Loss:     0.0030 Validation Accuracy: 0.603600\n",
      "Epoch 49, CIFAR-10 Batch 2:  Epoch 49Loss:     0.0006 Validation Accuracy: 0.615000\n",
      "Epoch 49, CIFAR-10 Batch 3:  Epoch 49Loss:     0.0004 Validation Accuracy: 0.603600\n",
      "Epoch 49, CIFAR-10 Batch 4:  Epoch 49Loss:     0.0053 Validation Accuracy: 0.606200\n",
      "Epoch 49, CIFAR-10 Batch 5:  Epoch 49Loss:     0.0040 Validation Accuracy: 0.608400\n",
      "Epoch 50, CIFAR-10 Batch 1:  Epoch 50Loss:     0.0019 Validation Accuracy: 0.598600\n",
      "Epoch 50, CIFAR-10 Batch 2:  Epoch 50Loss:     0.0018 Validation Accuracy: 0.601600\n",
      "Epoch 50, CIFAR-10 Batch 3:  Epoch 50Loss:     0.0014 Validation Accuracy: 0.610400\n",
      "Epoch 50, CIFAR-10 Batch 4:  Epoch 50Loss:     0.0030 Validation Accuracy: 0.612600\n",
      "Epoch 50, CIFAR-10 Batch 5:  Epoch 50Loss:     0.0017 Validation Accuracy: 0.606000\n"
     ]
    }
   ],
   "source": [
    "\"\"\"\n",
    "DON'T MODIFY ANYTHING IN THIS CELL\n",
    "\"\"\"\n",
    "save_model_path = './image_classification'\n",
    "\n",
    "print('Training...')\n",
    "with tf.Session() as sess:\n",
    "    # Initializing the variables\n",
    "    sess.run(tf.global_variables_initializer())\n",
    "    \n",
    "    # Training cycle\n",
    "    for epoch in range(epochs):\n",
    "        # Loop over all batches\n",
    "        n_batches = 5\n",
    "        for batch_i in range(1, n_batches + 1):\n",
    "            for batch_features, batch_labels in helper.load_preprocess_training_batch(batch_i, batch_size):\n",
    "                train_neural_network(sess, optimizer, keep_probability, batch_features, batch_labels)\n",
    "            print('Epoch {:>2}, CIFAR-10 Batch {}:  '.format(epoch + 1, batch_i), end='')\n",
    "            print_stats(sess, batch_features, batch_labels, cost, accuracy)\n",
    "            \n",
    "    # Save Model\n",
    "    saver = tf.train.Saver()\n",
    "    save_path = saver.save(sess, save_model_path)"
   ]
  },
  {
   "cell_type": "markdown",
   "metadata": {
    "deletable": true,
    "editable": true
   },
   "source": [
    "# Checkpoint\n",
    "The model has been saved to disk.\n",
    "## Test Model\n",
    "Test your model against the test dataset.  This will be your final accuracy. You should have an accuracy greater than 50%. If you don't, keep tweaking the model architecture and parameters."
   ]
  },
  {
   "cell_type": "code",
   "execution_count": 23,
   "metadata": {
    "collapsed": false,
    "deletable": true,
    "editable": true
   },
   "outputs": [
    {
     "name": "stdout",
     "output_type": "stream",
     "text": [
      "Testing Accuracy: 0.5965189873417721\n",
      "\n"
     ]
    },
    {
     "data": {
      "image/png": "[encoded data removed]",
      "text/plain": [
       "<matplotlib.figure.Figure at 0x7ffaf1347a90>"
      ]
     },
     "metadata": {
      "image/png": {
       "height": 319,
       "width": 355
      }
     },
     "output_type": "display_data"
    }
   ],
   "source": [
    "\"\"\"\n",
    "DON'T MODIFY ANYTHING IN THIS CELL\n",
    "\"\"\"\n",
    "%matplotlib inline\n",
    "%config InlineBackend.figure_format = 'retina'\n",
    "\n",
    "import tensorflow as tf\n",
    "import pickle\n",
    "import helper\n",
    "import random\n",
    "\n",
    "# Set batch size if not already set\n",
    "try:\n",
    "    if batch_size:\n",
    "        pass\n",
    "except NameError:\n",
    "    batch_size = 64\n",
    "\n",
    "save_model_path = './image_classification'\n",
    "n_samples = 4\n",
    "top_n_predictions = 3\n",
    "\n",
    "def test_model():\n",
    "    \"\"\"\n",
    "    Test the saved model against the test dataset\n",
    "    \"\"\"\n",
    "\n",
    "    test_features, test_labels = pickle.load(open('preprocess_training.p', mode='rb'))\n",
    "    loaded_graph = tf.Graph()\n",
    "\n",
    "    with tf.Session(graph=loaded_graph) as sess:\n",
    "        # Load model\n",
    "        loader = tf.train.import_meta_graph(save_model_path + '.meta')\n",
    "        loader.restore(sess, save_model_path)\n",
    "\n",
    "        # Get Tensors from loaded model\n",
    "        loaded_x = loaded_graph.get_tensor_by_name('x:0')\n",
    "        loaded_y = loaded_graph.get_tensor_by_name('y:0')\n",
    "        loaded_keep_prob = loaded_graph.get_tensor_by_name('keep_prob:0')\n",
    "        loaded_logits = loaded_graph.get_tensor_by_name('logits:0')\n",
    "        loaded_acc = loaded_graph.get_tensor_by_name('accuracy:0')\n",
    "        \n",
    "        # Get accuracy in batches for memory limitations\n",
    "        test_batch_acc_total = 0\n",
    "        test_batch_count = 0\n",
    "        \n",
    "        for train_feature_batch, train_label_batch in helper.batch_features_labels(test_features, test_labels, batch_size):\n",
    "            test_batch_acc_total += sess.run(\n",
    "                loaded_acc,\n",
    "                feed_dict={loaded_x: train_feature_batch, loaded_y: train_label_batch, loaded_keep_prob: 1.0})\n",
    "            test_batch_count += 1\n",
    "\n",
    "        print('Testing Accuracy: {}\\n'.format(test_batch_acc_total/test_batch_count))\n",
    "\n",
    "        # Print Random Samples\n",
    "        random_test_features, random_test_labels = tuple(zip(*random.sample(list(zip(test_features, test_labels)), n_samples)))\n",
    "        random_test_predictions = sess.run(\n",
    "            tf.nn.top_k(tf.nn.softmax(loaded_logits), top_n_predictions),\n",
    "            feed_dict={loaded_x: random_test_features, loaded_y: random_test_labels, loaded_keep_prob: 1.0})\n",
    "        helper.display_image_predictions(random_test_features, random_test_labels, random_test_predictions)\n",
    "\n",
    "\n",
    "test_model()"
   ]
  },
  {
   "cell_type": "markdown",
   "metadata": {
    "deletable": true,
    "editable": true
   },
   "source": [
    "## Why 50-80% Accuracy?\n",
    "You might be wondering why you can't get an accuracy any higher. First things first, 50% isn't bad for a simple CNN.  Pure guessing would get you 10% accuracy. However, you might notice people are getting scores [well above 80%](http://rodrigob.github.io/are_we_there_yet/build/classification_datasets_results.html#43494641522d3130).  That's because we haven't taught you all there is to know about neural networks. We still need to cover a few more techniques.\n",
    "## Submitting This Project\n",
    "When submitting this project, make sure to run all the cells before saving the notebook.  Save the notebook file as \"dlnd_image_classification.ipynb\" and save it as a HTML file under \"File\" -> \"Download as\".  Include the \"helper.py\" and \"problem_unittests.py\" files in your submission."
   ]
  }
 ],
 "metadata": {
  "anaconda-cloud": {},
  "kernelspec": {
   "display_name": "Python 3",
   "language": "python",
   "name": "python3"
  },
  "language_info": {
   "codemirror_mode": {
    "name": "ipython",
    "version": 3
   },
   "file_extension": ".py",
   "mimetype": "text/x-python",
   "name": "python",
   "nbconvert_exporter": "python",
   "pygments_lexer": "ipython3",
   "version": "3.5.3"
  }
 },
 "nbformat": 4,
 "nbformat_minor": 0
}
